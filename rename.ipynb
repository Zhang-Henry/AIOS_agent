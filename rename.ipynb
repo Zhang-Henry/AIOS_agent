{
 "cells": [
  {
   "cell_type": "code",
   "execution_count": 3,
   "metadata": {},
   "outputs": [
    {
     "name": "stdout",
     "output_type": "stream",
     "text": [
      "重命名: combined_attack-aggressive_.log -> combined_attack-aggressive_full_tools.log\n",
      "重命名: fake_completion-non-aggressive_.log -> fake_completion-non-aggressive_full_tools.log\n",
      "重命名: escape_characters-aggressive_.log -> escape_characters-aggressive_full_tools.log\n",
      "重命名: context_ignoring-non-aggressive_.log -> context_ignoring-non-aggressive_full_tools.log\n",
      "重命名: escape_characters-non-aggressive_.log -> escape_characters-non-aggressive_full_tools.log\n",
      "重命名: combined_attack-non-aggressive_.log -> combined_attack-non-aggressive_full_tools.log\n",
      "重命名: fake_completion-aggressive_.log -> fake_completion-aggressive_full_tools.log\n",
      "重命名: naive-non-aggressive_.log -> naive-non-aggressive_full_tools.log\n",
      "重命名: naive-aggressive_.log -> naive-aggressive_full_tools.log\n",
      "重命名: context_ignoring-aggressive_.log -> context_ignoring-aggressive_full_tools.log\n",
      "文件重命名完成。\n"
     ]
    }
   ],
   "source": [
    "import os\n",
    "\n",
    "# 定义要重命名的目录\n",
    "directory = '/common/users/hz624/AgentAttackBench/logs/observation_prompt_injection/llama3:8b/no_memory'\n",
    "\n",
    "# 遍历目录中的所有文件\n",
    "for filename in os.listdir(directory):\n",
    "    # 分离文件名和扩展名\n",
    "    file_path = os.path.join(directory, filename)\n",
    "    if os.path.isfile(file_path):\n",
    "        name, ext = os.path.splitext(filename)\n",
    "        # 生成新的文件名\n",
    "        new_filename = f\"{name}full_tools{ext}\"\n",
    "        new_file_path = os.path.join(directory, new_filename)\n",
    "        \n",
    "        # 重命名文件\n",
    "        if (\"full_tools\" not in file_path):\n",
    "            os.rename(file_path, new_file_path)\n",
    "            print(f\"重命名: {filename} -> {new_filename}\")\n",
    "\n",
    "print(\"文件重命名完成。\")\n"
   ]
  }
 ],
 "metadata": {
  "kernelspec": {
   "display_name": "AIOS",
   "language": "python",
   "name": "python3"
  },
  "language_info": {
   "codemirror_mode": {
    "name": "ipython",
    "version": 3
   },
   "file_extension": ".py",
   "mimetype": "text/x-python",
   "name": "python",
   "nbconvert_exporter": "python",
   "pygments_lexer": "ipython3",
   "version": "3.11.9"
  }
 },
 "nbformat": 4,
 "nbformat_minor": 2
}
