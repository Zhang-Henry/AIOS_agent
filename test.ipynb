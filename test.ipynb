{
 "cells": [
  {
   "cell_type": "code",
   "execution_count": 2,
   "metadata": {},
   "outputs": [
    {
     "name": "stdout",
     "output_type": "stream",
     "text": [
      "No duplicate Attacker Tools found.\n"
     ]
    }
   ],
   "source": [
    "import json\n",
    "\n",
    "def check_duplicate_attacker_tools(file_path):\n",
    "    # 用于存储每个 Attacker Tool 出现的次数\n",
    "    tool_count = {}\n",
    "\n",
    "    # 读取 JSONL 文件\n",
    "    with open(file_path, 'r', encoding='utf-8') as f:\n",
    "        for line in f:\n",
    "            try:\n",
    "                # 解析每行 JSON 数据\n",
    "                data = json.loads(line)\n",
    "                # 获取 \"Attacker Tool\" 名称\n",
    "                tool_name = data.get(\"Attacker Tool\", None)\n",
    "\n",
    "                if tool_name:\n",
    "                    # 统计 \"Attacker Tool\" 出现的次数\n",
    "                    if tool_name in tool_count:\n",
    "                        tool_count[tool_name] += 1\n",
    "                    else:\n",
    "                        tool_count[tool_name] = 1\n",
    "            except json.JSONDecodeError:\n",
    "                print(f\"Invalid JSON line: {line}\")\n",
    "\n",
    "    # 检查是否存在重复的 \"Attacker Tool\"\n",
    "    duplicates = {tool: count for tool, count in tool_count.items() if count > 1}\n",
    "\n",
    "    if duplicates:\n",
    "        print(\"Found duplicate Attacker Tools:\")\n",
    "        for tool, count in duplicates.items():\n",
    "            print(f\"{tool}: {count} times\")\n",
    "    else:\n",
    "        print(\"No duplicate Attacker Tools found.\")\n",
    "\n",
    "# 指定 JSONL 文件路径\n",
    "file_path = 'data/all_attack_tools.jsonl'  # 修改为你的文件路径\n",
    "check_duplicate_attacker_tools(file_path)\n"
   ]
  },
  {
   "cell_type": "code",
   "execution_count": null,
   "metadata": {},
   "outputs": [],
   "source": []
  }
 ],
 "metadata": {
  "kernelspec": {
   "display_name": "AIOS",
   "language": "python",
   "name": "python3"
  },
  "language_info": {
   "codemirror_mode": {
    "name": "ipython",
    "version": 3
   },
   "file_extension": ".py",
   "mimetype": "text/x-python",
   "name": "python",
   "nbconvert_exporter": "python",
   "pygments_lexer": "ipython3",
   "version": "3.11.9"
  }
 },
 "nbformat": 4,
 "nbformat_minor": 2
}
